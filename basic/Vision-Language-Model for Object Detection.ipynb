{
 "cells": [
  {
   "cell_type": "markdown",
   "id": "651b3d1a",
   "metadata": {},
   "source": [
    "#### Vision-Language-Model for Object Detection\n",
    "- Data\n",
    "    - Image\n",
    "    - Video\n",
    "    - Webcam\n",
    "\n",
    "- VLM\n",
    "    - Qwen3-VL (free)\n",
    "    - Qwen2.5VL (free)\n",
    "    - Gemini 2.5 (Paid)\n",
    "    - GPTo4-mini (Paid)\n",
    "\n",
    "- Object Detection\n",
    "    - siglip2\n",
    "    - siglip\n",
    "    - owlv2-base-patch16"
   ]
  },
  {
   "cell_type": "code",
   "execution_count": null,
   "id": "233836ce",
   "metadata": {
    "vscode": {
     "languageId": "plaintext"
    }
   },
   "outputs": [],
   "source": []
  }
 ],
 "metadata": {
  "kernelspec": {
   "display_name": "lecture",
   "language": "python",
   "name": "python3"
  },
  "language_info": {
   "codemirror_mode": {
    "name": "ipython",
    "version": 3
   },
   "file_extension": ".py",
   "mimetype": "text/x-python",
   "name": "python",
   "nbconvert_exporter": "python",
   "pygments_lexer": "ipython3",
   "version": "3.8.20"
  }
 },
 "nbformat": 4,
 "nbformat_minor": 5
}
